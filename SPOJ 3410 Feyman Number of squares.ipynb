{
 "cells": [
  {
   "cell_type": "markdown",
   "metadata": {
    "collapsed": true
   },
   "source": [
    "SAMER08F - Feynman\n",
    "no tags \n",
    "\n",
    "Richard Phillips Feynman was a well known American physicist and a recipient of the Nobel Prize in Physics. He worked in theoretical physics and also pioneered the field of quantum computing. He visited South America for ten months, giving lectures and enjoying life in the tropics. He is also known for his books \"Surely You're Joking, Mr. Feynman!\" and \"What Do You Care What Other People Think?\", which include some of his adventures below the equator.\n",
    "\n",
    "His life-long addiction was solving and making puzzles, locks, and cyphers. Recently, an old farmer in South America, who was a host to the young physicist in 1949, found some papers and notes that is believed to have belonged to Feynman. Among notes about mesons and electromagnetism, there was a napkin where he wrote a simple puzzle: \"how many different squares are there in a grid of N ×N squares?\".\n",
    "\n",
    "In the same napkin there was a drawing which is reproduced below, showing that, for N=2, the answer is 5.\n",
    "\n",
    "subir imagenes\n",
    "\n",
    "Input\n",
    "The input contains several test cases. Each test case is composed of a single line, containing only one integer N, representing the number of squares in each side of the grid (1 ≤ N ≤ 100).\n",
    "\n",
    "The end of input is indicated by a line containing only one zero.\n",
    "\n",
    "Output\n",
    "For each test case in the input, your program must print a single line, containing the number of different squares for the corresponding input.\n",
    "\n",
    "Example\n",
    "Input:\n",
    "2\n",
    "1\n",
    "8\n",
    "0\n",
    "\n",
    "\n",
    "Output:\n",
    "5\n",
    "1\n",
    "204\n"
   ]
  },
  {
   "cell_type": "markdown",
   "metadata": {},
   "source": [
    "##### Math Behind"
   ]
  },
  {
   "cell_type": "markdown",
   "metadata": {
    "collapsed": true
   },
   "source": [
    "Math Behind: Number of squares is, for n sided square, n^2+(n-1)*(n-1)+...(n-k)*(n-k)..+1"
   ]
  },
  {
   "cell_type": "markdown",
   "metadata": {},
   "source": [
    "#### Code"
   ]
  },
  {
   "cell_type": "code",
   "execution_count": 1,
   "metadata": {
    "collapsed": true
   },
   "outputs": [],
   "source": [
    "def no_sq(n):\n",
    "    ttl_sq=0\n",
    "    for i in range(0,n):\n",
    "        ttl_sq+=pow((n-i),2)\n",
    "    return ttl_sq\n",
    "        "
   ]
  },
  {
   "cell_type": "code",
   "execution_count": 7,
   "metadata": {},
   "outputs": [
    {
     "name": "stdout",
     "output_type": "stream",
     "text": [
      "Enter Number of square sides: 2\n",
      "Enter Number of square sides: 1\n",
      "Enter Number of square sides: 8\n",
      "Enter Number of square sides: 0\n",
      "Number of Feyman squares for a  2  sided square is  5\n",
      "Number of Feyman squares for a  1  sided square is  1\n",
      "Number of Feyman squares for a  8  sided square is  204\n"
     ]
    }
   ],
   "source": [
    "#t=int(input(\"Enter number of test cases: \"))\n",
    "t=0\n",
    "num=[]\n",
    "while True:\n",
    "    num.append(int(input(\"Enter Number of square sides: \")))\n",
    "    if num[t]==0:\n",
    "        break\n",
    "    else:\n",
    "        t+=1\n",
    "for i in range(t):\n",
    "    print(\"Number of Feyman squares for a \",num[i],\" sided square is \", no_sq(num[i]))"
   ]
  },
  {
   "cell_type": "code",
   "execution_count": null,
   "metadata": {
    "collapsed": true
   },
   "outputs": [],
   "source": []
  }
 ],
 "metadata": {
  "kernelspec": {
   "display_name": "Python 3",
   "language": "python",
   "name": "python3"
  },
  "language_info": {
   "codemirror_mode": {
    "name": "ipython",
    "version": 3
   },
   "file_extension": ".py",
   "mimetype": "text/x-python",
   "name": "python",
   "nbconvert_exporter": "python",
   "pygments_lexer": "ipython3",
   "version": "3.6.1"
  }
 },
 "nbformat": 4,
 "nbformat_minor": 2
}
