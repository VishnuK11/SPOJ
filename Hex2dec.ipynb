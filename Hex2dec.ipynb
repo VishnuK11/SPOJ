{
 "cells": [
  {
   "cell_type": "markdown",
   "metadata": {},
   "source": [
    "# Hex 2 Decimal"
   ]
  },
  {
   "cell_type": "code",
   "execution_count": null,
   "metadata": {},
   "outputs": [],
   "source": [
    "hex2dec={'0':'0',\n",
    "         '1':'1',\n",
    "         '2':'2',\n",
    "         '3':'3',\n",
    "         '4':'4',\n",
    "         '5':'5',\n",
    "         '6':'6',\n",
    "         '7':'7',\n",
    "         '8':'8',\n",
    "         '9':'9',\n",
    "         'a':'10',\n",
    "         'b':'11',\n",
    "         'c':'12',\n",
    "         'd':'13',\n",
    "         'f':'14',\n",
    "         'g':'15'\n",
    "        }"
   ]
  },
  {
   "cell_type": "code",
   "execution_count": 32,
   "metadata": {},
   "outputs": [
    {
     "name": "stdout",
     "output_type": "stream",
     "text": [
      "700441\n"
     ]
    }
   ],
   "source": [
    "char='ab019'\n",
    "dec=0\n",
    "for i in range(1,len(char)+1):\n",
    "    dec=int(hex2dec[char[-i]])*(pow(16,(i-1)))+dec\n",
    "print(dec)"
   ]
  },
  {
   "cell_type": "code",
   "execution_count": 31,
   "metadata": {},
   "outputs": [
    {
     "name": "stdout",
     "output_type": "stream",
     "text": [
      "700441\n"
     ]
    }
   ],
   "source": [
    "char='ab019'\n",
    "dec=0\n",
    "for i in range(len(char)):\n",
    "#     print(hex2dec[char[i]],\" \",(pow(16,(i))))\n",
    "    dec=int(hex2dec[char[i]])*(pow(16,(len(char)-i-1)))+dec\n",
    "print(dec)"
   ]
  },
  {
   "cell_type": "code",
   "execution_count": null,
   "metadata": {
    "collapsed": true
   },
   "outputs": [],
   "source": []
  }
 ],
 "metadata": {
  "kernelspec": {
   "display_name": "Python 3",
   "language": "python",
   "name": "python3"
  },
  "language_info": {
   "codemirror_mode": {
    "name": "ipython",
    "version": 3
   },
   "file_extension": ".py",
   "mimetype": "text/x-python",
   "name": "python",
   "nbconvert_exporter": "python",
   "pygments_lexer": "ipython3",
   "version": "3.6.1"
  }
 },
 "nbformat": 4,
 "nbformat_minor": 2
}
