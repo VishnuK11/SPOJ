{
 "cells": [
  {
   "cell_type": "code",
   "execution_count": 1,
   "metadata": {},
   "outputs": [],
   "source": [
    "# '''\n",
    "# 400\n",
    "# TOANDFRO - To and Fro\n",
    "\n",
    "# #ad-hoc-1\n",
    "\n",
    "# Mo and Larry have devised a way of encrypting messages. They first decide secretly on the number \n",
    "# of columns and write the message (letters only) down the columns, padding with extra random letters \n",
    "# so as to make a rectangular array of letters. For example, if the message is “There’s no place like home \n",
    "# on a snowy night” and there are five columns, Mo would write down\n",
    "\n",
    "# t o i o y h p k n n e l e a i r a h s g e c o n h s e m o t n l e w x Note that Mo includes \n",
    "# only letters and writes them all in lower case. In this example, Mo used the character ‘x’ \n",
    "# to pad the message out to make a rectangle, although he could have used any letter. Mo then \n",
    "# sends the message to Larry by writing the letters in each row, alternating left-to-right and\n",
    "# right-to-left. So, the above would be encrypted as\n",
    "\n",
    "# toioynnkpheleaigshareconhtomesnlewx Your job is to recover for Larry the original message \n",
    "# (along with any extra padding letters) from the encrypted one.\n",
    "\n",
    "# Input There will be multiple input sets. Input for each set will consist of two lines. \n",
    "# The first line will contain an integer in the range 2...20 indicating the number of columns used. \n",
    "# The next line is a string of up to 200 lower case letters. The last input set is followed by \n",
    "# a line containing a single 0, indicating end of input.\n",
    "\n",
    "# Output Each input set should generate one line of output, giving the original plain text\n",
    "# message, with no spaces.\n",
    "\n",
    "# Example Input:\n",
    "\n",
    "# 5 toioynnkpheleaigshareconhtomesnlewx 3 ttyohhieneesiaabss 0\n",
    "\n",
    "# Output:\n",
    "\n",
    "# theresnoplacelikehomeonasnowynightx thisistheeasyoneab\n",
    "# '''"
   ]
  },
  {
   "cell_type": "code",
   "execution_count": 7,
   "metadata": {},
   "outputs": [],
   "source": [
    "def decrypt(col,text):\n",
    "    col=int(col)\n",
    "    loc=0\n",
    "    squr=[]\n",
    "    \n",
    "# Convert to a rectagular n*m list\n",
    "    while True and loc<len(text):\n",
    "        squr.append(text[loc:loc+col])\n",
    "        loc=loc+col\n",
    "        if loc>=len(text):\n",
    "            break\n",
    "\n",
    "# Reverse strings at odd indexes\n",
    "    for ind in range(1,len(squr),2):\n",
    "        squr[ind]=squr[ind][::-1]\n",
    "    #print(squr)\n",
    "\n",
    "# Put them together going column wise\n",
    "    i=-1\n",
    "    decrypted=[]\n",
    "    for ind in range(len(text)):\n",
    "        ind=ind%len(squr)\n",
    "        if ind==0:\n",
    "            i=i+1\n",
    "        decrypted.append(squr[ind][i])\n",
    "    decrypted=''.join(decrypted)\n",
    "    return decrypted"
   ]
  },
  {
   "cell_type": "code",
   "execution_count": 8,
   "metadata": {},
   "outputs": [],
   "source": [
    "# decrypt(5,'toioynnkpheleaigshareconhtomesnlewx')"
   ]
  },
  {
   "cell_type": "code",
   "execution_count": 9,
   "metadata": {},
   "outputs": [],
   "source": [
    "# decrypt(3,'ttyohhieneesiaabss')"
   ]
  },
  {
   "cell_type": "code",
   "execution_count": 10,
   "metadata": {},
   "outputs": [
    {
     "name": "stdout",
     "output_type": "stream",
     "text": [
      "Enter here: \n",
      "5 toioynnkpheleaigshareconhtomesnlewx 3 ttyohhieneesiaabss 0\n"
     ]
    },
    {
     "data": {
      "text/plain": [
       "'theresnoplacelikehomeonasnowynightx thisistheeasyoneab'"
      ]
     },
     "execution_count": 10,
     "metadata": {},
     "output_type": "execute_result"
    }
   ],
   "source": [
    "inp=input('Enter here: \\n')\n",
    "inp=inp.split()\n",
    "ind=0\n",
    "decrypted=[]\n",
    "while True:\n",
    "    if inp[ind]=='0':\n",
    "        break\n",
    "    else:\n",
    "        decrypted.append(decrypt(inp[ind],inp[ind+1]))\n",
    "        ind=ind+2\n",
    "' '.join(decrypted)"
   ]
  },
  {
   "cell_type": "code",
   "execution_count": null,
   "metadata": {},
   "outputs": [],
   "source": []
  }
 ],
 "metadata": {
  "kernelspec": {
   "display_name": "Python 3",
   "language": "python",
   "name": "python3"
  },
  "language_info": {
   "codemirror_mode": {
    "name": "ipython",
    "version": 3
   },
   "file_extension": ".py",
   "mimetype": "text/x-python",
   "name": "python",
   "nbconvert_exporter": "python",
   "pygments_lexer": "ipython3",
   "version": "3.6.9"
  }
 },
 "nbformat": 4,
 "nbformat_minor": 2
}
