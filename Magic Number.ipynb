{
 "cells": [
  {
   "cell_type": "code",
   "execution_count": null,
   "metadata": {
    "collapsed": true
   },
   "outputs": [],
   "source": [
    "# For number abce, starting with A, move a places to right, loop over \n",
    "# and continue until only one is visited once. If all have been visited once \n",
    "# at the end of it, it's a magic number. Else its not.\n",
    "# Move abcd, "
   ]
  },
  {
   "cell_type": "code",
   "execution_count": 8,
   "metadata": {},
   "outputs": [
    {
     "name": "stdout",
     "output_type": "stream",
     "text": [
      "Insert number of test cases: 1\n",
      "Insert number to check: 222\n",
      "The number  222  is a magic number\n"
     ]
    }
   ],
   "source": [
    "# Current Index computation\n",
    "def c_index(current, num, leng):\n",
    "    index=current+num\n",
    "    if index>=leng:    \n",
    "        while index>=leng:\n",
    "            index = index-leng\n",
    "#     print(index)        \n",
    "    return index\n",
    "\n",
    "# Read Inputs\n",
    "t=int(input(\"Insert number of test cases: \"))\n",
    "inp=[]\n",
    "for k in range(t):\n",
    "    inp.append(input(\"Insert number to check: \"))\n",
    "    \n",
    "# Compute Outputs\n",
    "for k in range(t):\n",
    "# Variable to track visits\n",
    "    track_visit=[0,0,0,0]\n",
    "    cur=0\n",
    "    mag=True\n",
    "    for i in range(len(inp[k])):\n",
    "        track_visit[cur]=track_visit[cur]+1\n",
    "        if(track_visit[cur]>1):\n",
    "            mag=False\n",
    "            break\n",
    "        cur=c_index(cur, int(inp[k][cur]), len(inp[k]))\n",
    "    if mag:\n",
    "        print(\"The number \", inp[k],\" is a magic number\")\n",
    "    else: \n",
    "        print(\"The number \", inp[k],\" is not a magic number\")\n",
    "    "
   ]
  },
  {
   "cell_type": "code",
   "execution_count": null,
   "metadata": {
    "collapsed": true
   },
   "outputs": [],
   "source": []
  }
 ],
 "metadata": {
  "kernelspec": {
   "display_name": "Python 3",
   "language": "python",
   "name": "python3"
  },
  "language_info": {
   "codemirror_mode": {
    "name": "ipython",
    "version": 3
   },
   "file_extension": ".py",
   "mimetype": "text/x-python",
   "name": "python",
   "nbconvert_exporter": "python",
   "pygments_lexer": "ipython3",
   "version": "3.6.9"
  }
 },
 "nbformat": 4,
 "nbformat_minor": 2
}
