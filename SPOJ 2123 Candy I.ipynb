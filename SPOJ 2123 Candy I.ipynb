{
 "cells": [
  {
   "cell_type": "markdown",
   "metadata": {},
   "source": [
    "CANDY - Candy I\n",
    "\n",
    "#ad-hoc-1\n",
    "\n",
    "Jennifer is a teacher in the first year of a primary school. She has gone for a trip with her class today. She has taken a packet of candies for each child. Unfortunatelly, the sizes of the packets are not the same.\n",
    "\n",
    "Jennifer is afraid that each child will want to have the biggest packet of candies and this will lead to quarrels or even fights among children. She wants to avoid this. Therefore, she has decided to open all the packets, count the candies in each packet and move some candies from bigger packets to smaller ones so that each packet will contain the same number of candies. The question is how many candies she has to move.\n",
    "\n",
    "Input specification The input file consists of several blocks of data. Each block starts with the number of candy packets N(1<= N <=10000) followed by N integers (each less than 1000) in separate lines, giving the number of candies in each packet. After the last block of data there is the number -1.\n",
    "\n",
    "Output specification The output file should contain one line with the smallest number of moves for each block of data. One move consists of taking one candy from a packet and putting it into another one. If it is not possible to have the same number of candies in each packet, output the number -1.\n",
    "\n",
    "Example Input file: 5 1 1 1 1 6 2 3 4 -1\n",
    "\n",
    "Output file: 4 -1"
   ]
  },
  {
   "cell_type": "code",
   "execution_count": 10,
   "metadata": {
    "collapsed": true
   },
   "outputs": [],
   "source": [
    "def dis_candy(inp):\n",
    "    # Check for correct input\n",
    "#     inp = [int(i) for i in inp]\n",
    "    if inp[0]!=(len(inp)-1):\n",
    "        print(\"Incorect input\", inp)\n",
    "        \n",
    "        return -2\n",
    "    \n",
    "    # Cal final equal bags\n",
    "    else:\n",
    "        total=0\n",
    "        for i in range(1,len(inp)):\n",
    "            total+=inp[i]\n",
    "        avg=total/inp[0]\n",
    "        if avg%1!=0:\n",
    "            return -1\n",
    "            \n",
    "    #Cal Total moves\n",
    "    mov=0\n",
    "    for i in range(1,len(inp)):\n",
    "        if inp[i]>avg:\n",
    "            mov+=inp[i]-avg\n",
    "        else:\n",
    "            continue\n",
    "            \n",
    "    return mov"
   ]
  },
  {
   "cell_type": "code",
   "execution_count": 26,
   "metadata": {},
   "outputs": [
    {
     "name": "stdout",
     "output_type": "stream",
     "text": [
      "Enter the input of all candy blocks: 5 1 1 1 1 6 2 3 4 -1\n",
      "[[5, 1, 1, 1, 1, 6]]\n",
      "Track: 0\n",
      "[[5, 1, 1, 1, 1, 6], [2, 3, 4]]\n",
      "Track: 6\n",
      "End of file\n",
      "4 -1\n"
     ]
    }
   ],
   "source": [
    "entry=input(\"Enter the input of all candy blocks: \")\n",
    "block=[]\n",
    "entry=entry.split(' ')\n",
    "entry = [int(i) for i in entry]\n",
    "track=0\n",
    "\n",
    "while True:\n",
    "    if entry[track]==-1:\n",
    "        print(\"End of file\")\n",
    "        break\n",
    "    block.append(entry[track:(track+int(entry[track]+1))])\n",
    "    print(block)\n",
    "    print(\"Track:\",track)\n",
    "    track+=int(entry[track])+1\n",
    "    \n",
    "out=[]\n",
    "for i in range(len(block)):\n",
    "    out.append(str(int(dis_candy(block[i]))))\n",
    "out=' '.join(out)\n",
    "print(out)"
   ]
  }
 ],
 "metadata": {
  "kernelspec": {
   "display_name": "Python 3",
   "language": "python",
   "name": "python3"
  },
  "language_info": {
   "codemirror_mode": {
    "name": "ipython",
    "version": 3
   },
   "file_extension": ".py",
   "mimetype": "text/x-python",
   "name": "python",
   "nbconvert_exporter": "python",
   "pygments_lexer": "ipython3",
   "version": "3.6.9"
  }
 },
 "nbformat": 4,
 "nbformat_minor": 2
}
