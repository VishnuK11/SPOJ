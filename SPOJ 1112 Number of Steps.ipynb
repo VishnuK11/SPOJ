{
 "cells": [
  {
   "cell_type": "code",
   "execution_count": null,
   "metadata": {},
   "outputs": [],
   "source": [
    "# Starting from point (0,0) on a plane, we have written all non-negative integers 0, 1, 2,... as shown in the figure. For example, 1, 2, and 3 has been written at points (1,1), (2,0), and (3, 1) respectively and this pattern has continued.\n",
    "\n",
    "# Illustration\n",
    "\n",
    "# You are to write a program that reads the coordinates of a point (x, y), and writes the number (if any) that has been written at that point. (x, y) coordinates in the input are in the range 0...10000.\n",
    "\n",
    "\n",
    "# Input\n",
    "# The first line of the input is N, the number of test cases for this problem. In each of the N following lines, there is x, and y representing the coordinates (x, y) of a point.\n",
    " \n",
    "\n",
    "# Output\n",
    "# For each point in the input, write the number written at that point or write No Number if there is none."
   ]
  },
  {
   "cell_type": "code",
   "execution_count": null,
   "metadata": {
    "collapsed": true
   },
   "outputs": [],
   "source": [
    "# Math behind\n",
    "# Equations of Two Lines:\n",
    "# y=x; For Even  z=2*x; For Odd z=2x-1\n",
    "# y=x-2; For Even z=2*(x-2) For odd z=2x-3"
   ]
  },
  {
   "cell_type": "code",
   "execution_count": null,
   "metadata": {},
   "outputs": [],
   "source": [
    "# def is_on_line(x,y):\n",
    "#     on_line=False\n",
    "#     if x>=0 and(x==y or y==(x-2)):\n",
    "#         on_line=True\n",
    "#     return on_line"
   ]
  },
  {
   "cell_type": "code",
   "execution_count": 1,
   "metadata": {},
   "outputs": [],
   "source": [
    "def cal_z(x,y):\n",
    "    z=-1\n",
    "    if x==y:\n",
    "        if x%2==0:\n",
    "            z=2*x\n",
    "        else: \n",
    "            z=2*x-1\n",
    "    if y==(x-2):\n",
    "        if x%2==0:\n",
    "            z=2*(x-2)\n",
    "        else: \n",
    "            z=2*x-3   \n",
    "    return z"
   ]
  },
  {
   "cell_type": "code",
   "execution_count": 7,
   "metadata": {},
   "outputs": [
    {
     "name": "stdout",
     "output_type": "stream",
     "text": [
      "Enter total number of test cases: 3\n",
      "Enter numbers serparated by space: 4 2\n",
      "Enter numbers serparated by space: 6 6\n",
      "Enter numbers serparated by space: 3 4\n",
      "4\n",
      "12\n",
      "Not On Line\n"
     ]
    }
   ],
   "source": [
    "t=int(input(\"Enter total number of test cases: \"))\n",
    "user_inp=[]\n",
    "for i in range(0,t):\n",
    "    user_inp.append(input(\"Enter numbers serparated by space: \"))\n",
    "for i in range(0,t):\n",
    "    space=user_inp[i].find(' ')\n",
    "    num_1=int(user_inp[i][0:space])\n",
    "    num_2=int(user_inp[i][(space+1):])\n",
    "    z=cal_z(num_1,num_2)\n",
    "    if z!=-1:\n",
    "        print(z)\n",
    "    else: \n",
    "        print(\"No number\")"
   ]
  },
  {
   "cell_type": "code",
   "execution_count": null,
   "metadata": {
    "collapsed": true
   },
   "outputs": [],
   "source": []
  }
 ],
 "metadata": {
  "kernelspec": {
   "display_name": "Python 3",
   "language": "python",
   "name": "python3"
  },
  "language_info": {
   "codemirror_mode": {
    "name": "ipython",
    "version": 3
   },
   "file_extension": ".py",
   "mimetype": "text/x-python",
   "name": "python",
   "nbconvert_exporter": "python",
   "pygments_lexer": "ipython3",
   "version": "3.6.9"
  }
 },
 "nbformat": 4,
 "nbformat_minor": 2
}
