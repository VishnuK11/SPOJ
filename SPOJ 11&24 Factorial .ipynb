{
 "cells": [
  {
   "cell_type": "code",
   "execution_count": 1,
   "metadata": {
    "collapsed": true
   },
   "outputs": [],
   "source": [
    "# For example, they defined the function Z. For any positive integer N, Z(N) is the number of zeros\n",
    "# at the end of the decimal form of number N!. They noticed that this function never decreases.\n",
    "# If we have two numbers N1<N2, then Z(N1) <= Z(N2). It is because we can never \"lose\" any trailing \n",
    "# zero by multiplying by any positive number. We can only get new and new zeros. The function Z is \n",
    "# very interesting, so we need a computer program that can determine its value efficiently."
   ]
  },
  {
   "cell_type": "code",
   "execution_count": 7,
   "metadata": {},
   "outputs": [],
   "source": [
    "# This code overflows and inefficient. So try a shortcut based on math, below.\n",
    "\n",
    "def factorial(num):\n",
    "    fctrl=1\n",
    "    for i in range(1,num+1):\n",
    "        fctrl*=i\n",
    "    return fctrl\n",
    "    \n",
    "def num_zeros(num):\n",
    "    zero=0\n",
    "    while num%10==0:\n",
    "        zero+=1\n",
    "        num*=0.1\n",
    "    print(\"Number of zeros: \",zero)"
   ]
  },
  {
   "cell_type": "code",
   "execution_count": 17,
   "metadata": {},
   "outputs": [],
   "source": [
    "# Count the number of factors of 5 for counting the number of trailing zeros. \n",
    "# Video explanatation :https://coolconversion.com/math/factorial/What-is-the-factorial-of_60_%3F\n",
    "\n",
    "def factor_5(num):\n",
    "    zeros=0\n",
    "    for i in range(1,num+1):\n",
    "        current=i\n",
    "        \n",
    "        # Count factors per individual number\n",
    "        while current%5==0:\n",
    "            zeros+=1\n",
    "            current/=5\n",
    "    \n",
    "    print(\"Number of zeros: \",zeros)"
   ]
  },
  {
   "cell_type": "code",
   "execution_count": 21,
   "metadata": {},
   "outputs": [
    {
     "name": "stdout",
     "output_type": "stream",
     "text": [
      "Number of zeros:  24\n"
     ]
    }
   ],
   "source": [
    "factor_5(100)"
   ]
  }
 ],
 "metadata": {
  "kernelspec": {
   "display_name": "Python 3",
   "language": "python",
   "name": "python3"
  },
  "language_info": {
   "codemirror_mode": {
    "name": "ipython",
    "version": 3
   },
   "file_extension": ".py",
   "mimetype": "text/x-python",
   "name": "python",
   "nbconvert_exporter": "python",
   "pygments_lexer": "ipython3",
   "version": "3.6.1"
  }
 },
 "nbformat": 4,
 "nbformat_minor": 2
}
