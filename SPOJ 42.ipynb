{
 "cells": [
  {
   "cell_type": "code",
   "execution_count": 2,
   "metadata": {
    "collapsed": true
   },
   "outputs": [],
   "source": [
    "# ADDREV - Adding Reversed Numbers\n",
    "# #simple-math #ad-hoc-1\n",
    "\n",
    "# The Antique Comedians of Malidinesia prefer comedies to tragedies. Unfortunately, most of the ancient plays are tragedies. Therefore the dramatic advisor of ACM has decided to transfigure some tragedies into comedies. Obviously, this work is very hard because the basic sense of the play must be kept intact, although all the things change to their opposites. For example the numbers: if any number appears in the tragedy, it must be converted to its reversed form before being accepted into the comedy play.\n",
    "\n",
    "# Reversed number is a number written in arabic numerals but the order of digits is reversed. The first digit becomes last and vice versa. For example, if the main hero had 1245 strawberries in the tragedy, he has 5421 of them now. Note that all the leading zeros are omitted. That means if the number ends with a zero, the zero is lost by reversing (e.g. 1200 gives 21). Also note that the reversed number never has any trailing zeros.\n",
    "\n",
    "# ACM needs to calculate with reversed numbers. Your task is to add two reversed numbers and output their reversed sum. Of course, the result is not unique because any particular number is a reversed form of several numbers (e.g. 21 could be 12, 120 or 1200 before reversing). Thus we must assume that no zeros were lost by reversing (e.g. assume that the original number was 12).\n",
    "\n",
    "# Input\n",
    "# The input consists of N cases (equal to about 10000). The first line of the input contains only positive integer N. Then follow the cases. Each case consists of exactly one line with two positive integers separated by space. These are the reversed numbers you are to add.\n",
    "\n",
    "# Output\n",
    "# For each case, print exactly one line containing only one integer - the reversed sum of two reversed numbers. Omit any leading zeros in the output."
   ]
  },
  {
   "cell_type": "code",
   "execution_count": 29,
   "metadata": {},
   "outputs": [
    {
     "name": "stdout",
     "output_type": "stream",
     "text": [
      "Enter Number of test cases: 2\n",
      "Enter Numbers with space: 12 34\n",
      "Enter Numbers with space: 21 33\n",
      "46\n",
      "54\n"
     ]
    }
   ],
   "source": [
    "# Function for getting reverse of a string. Returns a string\n",
    "def reverse(tex):\n",
    "    rev_tex=[]\n",
    "    for i in range(len(tex)):\n",
    "        rev_tex.append(tex[-i-1])\n",
    "    return ''.join(rev_tex)\n",
    "\n",
    "# Function that takes two strings, reverses them both, adds them and returns the \n",
    "# reverse of the resultant sum\n",
    "def reverse_of_2(text_a,text_b):\n",
    "    sum_2=str(int(reverse(text_a))+int(reverse(text_b)))\n",
    "    return reverse(sum_2)\n",
    "\n",
    "# Take Inputs:\n",
    "t=int(input(\"Enter Number of test cases: \"))\n",
    "input_text=[]\n",
    "for i in range(t):\n",
    "    input_text.append(input(\"Enter Numbers with space: \"))\n",
    "    \n",
    "for i in range(t):   \n",
    "    space=input_text[i].find(' ')\n",
    "    text_1=input_text[i][0:space]\n",
    "    text_2=input_text[i][space+1:]\n",
    "    print(reverse_of_2(text_1,text_2))"
   ]
  },
  {
   "cell_type": "code",
   "execution_count": null,
   "metadata": {
    "collapsed": true
   },
   "outputs": [],
   "source": []
  }
 ],
 "metadata": {
  "kernelspec": {
   "display_name": "Python 3",
   "language": "python",
   "name": "python3"
  },
  "language_info": {
   "codemirror_mode": {
    "name": "ipython",
    "version": 3
   },
   "file_extension": ".py",
   "mimetype": "text/x-python",
   "name": "python",
   "nbconvert_exporter": "python",
   "pygments_lexer": "ipython3",
   "version": "3.6.9"
  }
 },
 "nbformat": 4,
 "nbformat_minor": 2
}
