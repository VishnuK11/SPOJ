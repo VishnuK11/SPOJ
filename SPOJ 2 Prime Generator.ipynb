{
 "cells": [
  {
   "cell_type": "markdown",
   "metadata": {},
   "source": [
    "# Prime Generator\n",
    "\n"
   ]
  },
  {
   "cell_type": "code",
   "execution_count": 4,
   "metadata": {
    "collapsed": true
   },
   "outputs": [],
   "source": [
    "# Peter wants to generate some prime numbers for his cryptosystem. Help him! \n",
    "# Your task is to generate all prime numbers between two given numbers!\n",
    "\n",
    "# Input\n",
    "# The input begins with the number t of test cases in a single line (t<=10).\n",
    "# In each of the next t lines there are two numbers m and n (1 <= m <= n <= 1000000000, n-m<=100000)\n",
    "# separated by a space.\n",
    "\n",
    "# Output\n",
    "# For every test case print all prime numbers p such that m <= p <= n, \n",
    "# one number per line, test cases separated by an empty line.\n",
    "\n"
   ]
  },
  {
   "cell_type": "code",
   "execution_count": 5,
   "metadata": {
    "collapsed": true
   },
   "outputs": [],
   "source": [
    "def check_prim(num):\n",
    "    i=2\n",
    "    div=False\n",
    "    while i<=num/2 and div==False:\n",
    "        if(num%i==0):\n",
    "            div=True\n",
    "            return(not div)\n",
    "            break\n",
    "        else:\n",
    "            i=i+1\n",
    "    if div==False:\n",
    "        return(not div)"
   ]
  },
  {
   "cell_type": "code",
   "execution_count": 6,
   "metadata": {
    "collapsed": true
   },
   "outputs": [],
   "source": [
    "def check_prime(start,end):\n",
    "    number=start\n",
    "    while number<=end:\n",
    "        if check_prim(number)==True:\n",
    "            print(number)\n",
    "        number+=1    "
   ]
  },
  {
   "cell_type": "code",
   "execution_count": 9,
   "metadata": {
    "scrolled": true
   },
   "outputs": [
    {
     "name": "stdout",
     "output_type": "stream",
     "text": [
      "Enter total number of test cases: 2\n",
      "Enter numbers serparated by space: 2 34\n",
      "Enter numbers serparated by space: 3 56\n",
      "2 34\n",
      "\n",
      "2\n",
      "3\n",
      "5\n",
      "7\n",
      "11\n",
      "13\n",
      "17\n",
      "19\n",
      "23\n",
      "29\n",
      "31\n",
      "3 56\n",
      "\n",
      "3\n",
      "5\n",
      "7\n",
      "11\n",
      "13\n",
      "17\n",
      "19\n",
      "23\n",
      "29\n",
      "31\n",
      "37\n",
      "41\n",
      "43\n",
      "47\n",
      "53\n"
     ]
    }
   ],
   "source": [
    "t=int(input(\"Enter total number of test cases: \"))\n",
    "user_inp=[]\n",
    "for i in range(0,t):\n",
    "    user_inp.append(input(\"Enter numbers serparated by space: \"))\n",
    "for i in range(0,t):\n",
    "    space=user_inp[i].find(' ')\n",
    "    num_1=int(user_inp[i][0:space])\n",
    "    num_2=int(user_inp[i][(space+1):])\n",
    "    print(num_1,num_2)\n",
    "    print()\n",
    "    check_prime(num_1,num_2)"
   ]
  },
  {
   "cell_type": "code",
   "execution_count": null,
   "metadata": {
    "collapsed": true
   },
   "outputs": [],
   "source": []
  }
 ],
 "metadata": {
  "kernelspec": {
   "display_name": "Python 3",
   "language": "python",
   "name": "python3"
  },
  "language_info": {
   "codemirror_mode": {
    "name": "ipython",
    "version": 3
   },
   "file_extension": ".py",
   "mimetype": "text/x-python",
   "name": "python",
   "nbconvert_exporter": "python",
   "pygments_lexer": "ipython3",
   "version": "3.6.1"
  }
 },
 "nbformat": 4,
 "nbformat_minor": 2
}
