{
 "cells": [
  {
   "cell_type": "code",
   "execution_count": null,
   "metadata": {
    "collapsed": true
   },
   "outputs": [],
   "source": [
    "# Your program is to use the brute-force approach in order to find the Answer to Life, \n",
    "# the Universe, and Everything. More precisely... rewrite small numbers from input to output.\n",
    "# Stop processing input after reading in the number 42. All numbers at input are integers of\n",
    "# one or two digits."
   ]
  },
  {
   "cell_type": "code",
   "execution_count": 2,
   "metadata": {},
   "outputs": [
    {
     "name": "stdout",
     "output_type": "stream",
     "text": [
      "Enter Number: 3\n",
      "Enter Number: 2\n",
      "Enter Number: 1\n",
      "Enter Number: 4\n",
      "Enter Number: 3\n",
      "Enter Number: 2\n",
      "Enter Number: 42\n",
      "[3, 2, 1, 4, 3, 2]\n"
     ]
    }
   ],
   "source": [
    "end=False\n",
    "entry=[]\n",
    "count=0\n",
    "while not end:\n",
    "    entry.append(int(input(\"Enter Number: \"))) # Update List\n",
    "    if entry[-1]==42:\n",
    "        entry.pop() #Remove 42\n",
    "        end=True\n",
    "print(entry)"
   ]
  },
  {
   "cell_type": "code",
   "execution_count": null,
   "metadata": {
    "collapsed": true
   },
   "outputs": [],
   "source": []
  }
 ],
 "metadata": {
  "kernelspec": {
   "display_name": "Python 3",
   "language": "python",
   "name": "python3"
  },
  "language_info": {
   "codemirror_mode": {
    "name": "ipython",
    "version": 3
   },
   "file_extension": ".py",
   "mimetype": "text/x-python",
   "name": "python",
   "nbconvert_exporter": "python",
   "pygments_lexer": "ipython3",
   "version": "3.6.1"
  }
 },
 "nbformat": 4,
 "nbformat_minor": 2
}
