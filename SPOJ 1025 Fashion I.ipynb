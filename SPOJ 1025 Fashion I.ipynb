{
 "cells": [
  {
   "cell_type": "markdown",
   "metadata": {},
   "source": [
    "FASHION - Fashion Shows\n",
    "\n",
    "#ad-hoc-1\n",
    "\n",
    "A fashion show rates participants according to their level of hotness. Two different fashion shows were organized, one for men and the other for women. A date for the third is yet to be decided ;) .\n",
    "\n",
    "Now the results of both fashion shows are out. The participants of both the fashion shows have decided to date each other, but as usual they have difficuly in choosing their partners. The Maximum Match dating serive (MMDS) comes to their rescue and matches them in such a way that that maximizes the hotness bonds for all couples.\n",
    "\n",
    "If a man has been rated at hotness level x and a women at hotness level y, the value of their hotness bond is x*y.\n",
    "\n",
    "Both fashion shows contain N participants each. MMDS has done its job and your job is to find the sum of hotness bonds for all the couples that MMDS has proposed.\n",
    "\n",
    "Input The first line of the input contains an integer t, the number of test cases. t test cases follow.\n",
    "\n",
    "Each test case consists of 3 lines:\n",
    "\n",
    "The first line contains a single integer N (1 <= N <= 1000). The second line contains N integers separated by single spaces denoting the hotness levels of the men. The third line contains N integers separated by single spaces denoting the hotness levels of the women. All hotness ratings are on a scale of 0 to 10.\n",
    "\n",
    "Output For each test case output a single line containing a single integer denoting the sum of the hotness bonds for all pairs that MMDS has proposed.\n",
    "\n",
    "For each test case output a single line containing a single integer denoting the sum of the hotness bonds for all pairs that MMDS has proposed.\n",
    "\n",
    "Example\n",
    "Input:\n",
    "2\n",
    "2\n",
    "1 1\n",
    "3 2\n",
    "3\n",
    "2 3 2\n",
    "1 3 2\n",
    "\n",
    "Output:\n",
    "5\n",
    "15"
   ]
  },
  {
   "cell_type": "code",
   "execution_count": null,
   "metadata": {
    "collapsed": true
   },
   "outputs": [],
   "source": [
    "def mmds(hot_input):\n",
    "    #do sort. #Do sum of multiplies\n",
    "    \n",
    "    #After sort\n",
    "    hot_m"
   ]
  }
 ],
 "metadata": {
  "kernelspec": {
   "display_name": "Python 3",
   "language": "python",
   "name": "python3"
  },
  "language_info": {
   "codemirror_mode": {
    "name": "ipython",
    "version": 3
   },
   "file_extension": ".py",
   "mimetype": "text/x-python",
   "name": "python",
   "nbconvert_exporter": "python",
   "pygments_lexer": "ipython3",
   "version": "3.6.1"
  }
 },
 "nbformat": 4,
 "nbformat_minor": 2
}
