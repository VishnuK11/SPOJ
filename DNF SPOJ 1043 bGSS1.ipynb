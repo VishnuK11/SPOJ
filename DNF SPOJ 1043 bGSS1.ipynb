{
 "cells": [
  {
   "cell_type": "code",
   "execution_count": null,
   "metadata": {},
   "outputs": [],
   "source": [
    "# 1043  bGSS1 - Can you answer these queries I\n",
    "# #tree\n",
    "\n",
    "# You are given a sequence A[1], A[2], ..., A[N] . ( |A[i]| ≤ 15007 , 1 ≤ N ≤ 50000 ). \n",
    "# A query is defined as follows:\n",
    "# Query(x,y) = Max { a[i]+a[i+1]+...+a[j] ; x ≤ i ≤ j ≤ y }.\n",
    "# Given M queries, your program must output the results of these queries.\n",
    "# Input\n",
    "\n",
    "#     The first line of the input file contains the integer N.\n",
    "#     In the second line, N numbers follow.\n",
    "#     The third line contains the integer M.\n",
    "#     M lines follow, where line i contains 2 numbers xi and yi.\n",
    "\n",
    "# Output\n",
    "\n",
    "# Your program should output the results of the M queries, one query per line.\n",
    "# Example\n",
    "\n",
    "# Input:\n",
    "# 3 \n",
    "# -1 2 3\n",
    "# 1\n",
    "# 1 2\n",
    "\n",
    "# Output:\n",
    "# 2\n",
    "\n"
   ]
  }
 ],
 "metadata": {
  "kernelspec": {
   "display_name": "Python 3",
   "language": "python",
   "name": "python3"
  },
  "language_info": {
   "codemirror_mode": {
    "name": "ipython",
    "version": 3
   },
   "file_extension": ".py",
   "mimetype": "text/x-python",
   "name": "python",
   "nbconvert_exporter": "python",
   "pygments_lexer": "ipython3",
   "version": "3.6.9"
  }
 },
 "nbformat": 4,
 "nbformat_minor": 2
}
