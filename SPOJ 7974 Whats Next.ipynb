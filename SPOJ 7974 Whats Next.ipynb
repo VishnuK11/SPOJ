{
 "cells": [
  {
   "cell_type": "markdown",
   "metadata": {},
   "source": [
    "ACPC10A - What’s Next\n",
    "According to Wikipedia, an arithmetic progression (AP) is a sequence of numbers such that the difference of any two successive members of the sequence is a constant. For instance, the sequence 3, 5, 7, 9, 11, 13, . . . is an arithmetic progression with common difference 2. For this problem, we will limit ourselves to arithmetic progression whose common difference is a non-zero integer.\n",
    "On the other hand, a geometric progression (GP) is a sequence of numbers where each term after the first is found by multiplying the previous one by a fixed non-zero number called the common ratio. For example, the sequence 2, 6, 18, 54, . . . is a geometric progression with common ratio 3. For this problem, we will limit ourselves to geometric progression whose common ratio is a non-zero integer.\n",
    "Given three successive members of a sequence, you need to determine the type of the progression and the next successive member.\n",
    "\n",
    "Input\n",
    "Your program will be tested on one or more test cases. Each case is specified on a single line with three integers (−10, 000 < a1 , a2 , a3 < 10, 000) where a1 , a2 , and a3 are distinct.\n",
    "The last case is followed by a line with three zeros.\n",
    "\n",
    "Output\n",
    "For each test case, you program must print a single line of the form:\n",
    "XX v\n",
    "where XX is either AP or GP depending if the given progression is an Arithmetic or Geometric Progression. v is the next member of the given sequence. All input cases are guaranteed to be either an arithmetic or geometric progressions.\n",
    "\n",
    "Example\n",
    "Input:\n",
    "4 7 10\n",
    "2 6 18\n",
    "0 0 0\n",
    "\n",
    "Output:\n",
    "AP 13\n",
    "GP 54"
   ]
  },
  {
   "cell_type": "code",
   "execution_count": 17,
   "metadata": {},
   "outputs": [
    {
     "name": "stdout",
     "output_type": "stream",
     "text": [
      "Enter Numbers: 4 7 10\n",
      "Enter Numbers: 2 6 18\n",
      "Enter Numbers: 0 0 0\n",
      "For series  4 7 10  the result is  AP 13\n",
      "For series  2 6 18  the result is  GP 54.0\n"
     ]
    }
   ],
   "source": [
    "inp=[]\n",
    "\n",
    "while True:\n",
    "    inp.append(input(\"Enter Numbers: \"))\n",
    "    if inp[-1][0]=='0' and inp[-1][2]=='0' and inp[-1][4]=='0':\n",
    "        inp=inp[:-1:]\n",
    "        break\n",
    "        \n",
    "for i in range(len(inp)):\n",
    "        print(\"For series \",inp[i],\" the result is \",ap_gp_check(inp[i]))\n",
    "    \n",
    "        "
   ]
  },
  {
   "cell_type": "code",
   "execution_count": 14,
   "metadata": {},
   "outputs": [],
   "source": [
    "def ap_gp_check(inp):\n",
    "    # Convert string to Numbers:\n",
    "    string=inp.split(' ')\n",
    "    num=[0,0,0]\n",
    "    for i in range(3):\n",
    "        num[i]=int(string[i])\n",
    "    \n",
    "    # AP GP Check\n",
    "    series=[]\n",
    "    flag=False\n",
    "    if (num[1]-num[0])==(num[2]-num[1]):\n",
    "        series='AP'\n",
    "        nex=num[2]+num[2]-num[1]\n",
    "        flag=True\n",
    "    elif (num[1]/num[0])==(num[2]/num[1]):\n",
    "        series='GP'\n",
    "        nex=num[2]*num[2]/num[1]\n",
    "        flag=True\n",
    "    else:\n",
    "        series='Neither AP or GP'\n",
    "           \n",
    "    # Return\n",
    "    if flag:\n",
    "        return(series+\" \"+str(nex))\n",
    "    else:\n",
    "        return(series)"
   ]
  },
  {
   "cell_type": "code",
   "execution_count": null,
   "metadata": {
    "collapsed": true
   },
   "outputs": [],
   "source": []
  }
 ],
 "metadata": {
  "kernelspec": {
   "display_name": "Python 3",
   "language": "python",
   "name": "python3"
  },
  "language_info": {
   "codemirror_mode": {
    "name": "ipython",
    "version": 3
   },
   "file_extension": ".py",
   "mimetype": "text/x-python",
   "name": "python",
   "nbconvert_exporter": "python",
   "pygments_lexer": "ipython3",
   "version": "3.6.9"
  }
 },
 "nbformat": 4,
 "nbformat_minor": 2
}
