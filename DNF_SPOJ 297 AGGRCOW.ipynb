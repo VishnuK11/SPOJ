{
 "cells": [
  {
   "cell_type": "code",
   "execution_count": null,
   "metadata": {},
   "outputs": [],
   "source": [
    "# 297 \n",
    "# AGGRCOW - Aggressive cows\n",
    "# #binary-search\n",
    "\n",
    "# Farmer John has built a new long barn, with N (2 <= N <= 100,000) stalls. The stalls are \n",
    "# located along a straight line at positions x1,...,xN (0 <= xi <= 1,000,000,000).\n",
    "\n",
    "# His C (2 <= C <= N) cows don't like this barn layout and become aggressive towards each\n",
    "# other once put into a stall. To prevent the cows from hurting each other, FJ wants to assign \n",
    "# the cows to the stalls, such that the minimum distance between any two of them is as large as\n",
    "# possible. What is the largest minimum distance?\n",
    "# Input\n",
    "\n",
    "# t – the number of test cases, then t test cases follows.\n",
    "# * Line 1: Two space-separated integers: N and C\n",
    "# * Lines 2..N+1: Line i+1 contains an integer stall location, xi\n",
    "# Output\n",
    "\n",
    "# For each test case output one integer: the largest minimum distance.\n",
    "# Example\n",
    "\n",
    "# Input:\n",
    "\n",
    "# 1\n",
    "# 5 3\n",
    "# 1\n",
    "# 2\n",
    "# 8\n",
    "# 4\n",
    "# 9\n",
    "s\n",
    "# Output:\n",
    "\n",
    "# 3\n",
    "\n",
    "# Output details:\n",
    "\n",
    "# FJ can put his 3 cows in the stalls at positions 1, 4 and 8,\n",
    "# resulting in a minimum distance of 3."
   ]
  },
  {
   "cell_type": "code",
   "execution_count": null,
   "metadata": {},
   "outputs": [],
   "source": [
    "# N is number of stalls, c is number of cows, s is unsorted stall numbers\n",
    "def aggrcow(n,c,s):\n",
    "    s=s.sort()\n",
    "    larg_min=0\n",
    "    # Pick nCc\n",
    "    # computer Larg_min\n",
    "    # if more than previous, then go ahead and reassign\n",
    "    for "
   ]
  },
  {
   "cell_type": "code",
   "execution_count": 1,
   "metadata": {},
   "outputs": [
    {
     "data": {
      "text/plain": [
       "[1, 1, 2, 2, 3, 4, 5]"
      ]
     },
     "execution_count": 1,
     "metadata": {},
     "output_type": "execute_result"
    }
   ],
   "source": [
    "aggrcow(5,3,[1,2,8,4,9])"
   ]
  },
  {
   "cell_type": "code",
   "execution_count": null,
   "metadata": {},
   "outputs": [],
   "source": []
  }
 ],
 "metadata": {
  "kernelspec": {
   "display_name": "Python 3",
   "language": "python",
   "name": "python3"
  },
  "language_info": {
   "codemirror_mode": {
    "name": "ipython",
    "version": 3
   },
   "file_extension": ".py",
   "mimetype": "text/x-python",
   "name": "python",
   "nbconvert_exporter": "python",
   "pygments_lexer": "ipython3",
   "version": "3.6.9"
  }
 },
 "nbformat": 4,
 "nbformat_minor": 2
}
