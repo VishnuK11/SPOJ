{
 "cells": [
  {
   "cell_type": "code",
   "execution_count": null,
   "metadata": {},
   "outputs": [],
   "source": [
    "# < COINS - Bytelandian gold coins>\n",
    "\n",
    "# #dynamic-programming\n",
    "\n",
    "# In Byteland they have a very strange monetary system.\n",
    "\n",
    "# Each Bytelandian gold coin has an integer number written on it. \n",
    "# A coin n can be exchanged in a bank into three coins: n/2, n/3 and n/4. \n",
    "# But these numbers are all rounded down (the banks have to make a profit).\n",
    "\n",
    "# You can also sell Bytelandian coins for American dollars. \n",
    "# The exchange rate is 1:1. But you can not buy Bytelandian coins.\n",
    "\n",
    "# You have one gold coin. What is the maximum amount of American dollars you can get for it?\n",
    "\n",
    "# Input\n",
    "# The input will contain several test cases (not more than 10).\n",
    "# Each testcase is a single line with a number n, 0 <= n <= 1 000 000 000.\n",
    "# It is the number written on your coin.\n",
    "\n",
    "# Output\n",
    "# For each test case output a single line, containing the maximum amount of American dollars you can make.\n",
    "\n",
    "# Example\n",
    "# Input:\n",
    "# 12\n",
    "# 2\n",
    "\n",
    "# Output:\n",
    "# 13\n",
    "# 2\n",
    "# You can change 12 into 6, 4 and 3, and then change these into $6+$4+$3 = $13. \n",
    "# If you try changing the coin 2 into 3 smaller coins, you will get 1, 0 and 0, and \n",
    "# later you can get no more than $1 out of them. It is better just to change the 2 coin directly into $2."
   ]
  },
  {
   "cell_type": "code",
   "execution_count": 8,
   "metadata": {},
   "outputs": [
    {
     "name": "stdout",
     "output_type": "stream",
     "text": [
      "Enter Number: 6\n",
      "6\n"
     ]
    }
   ],
   "source": [
    "# Input\n",
    "gold=int(input(\"Enter Number: \"))\n",
    "\n",
    "# Calculate Max Exchange\n",
    "dollar3=int(gold/2)+int(gold/3)+int(gold/4)\n",
    "if gold<dollar3:\n",
    "    exchange=dollar3 \n",
    "else:\n",
    "    exchange=gold\n",
    "# Print Output\n",
    "print(exchange)"
   ]
  },
  {
   "cell_type": "code",
   "execution_count": null,
   "metadata": {},
   "outputs": [],
   "source": []
  }
 ],
 "metadata": {
  "kernelspec": {
   "display_name": "Python 3",
   "language": "python",
   "name": "python3"
  },
  "language_info": {
   "codemirror_mode": {
    "name": "ipython",
    "version": 3
   },
   "file_extension": ".py",
   "mimetype": "text/x-python",
   "name": "python",
   "nbconvert_exporter": "python",
   "pygments_lexer": "ipython3",
   "version": "3.6.9"
  }
 },
 "nbformat": 4,
 "nbformat_minor": 2
}
