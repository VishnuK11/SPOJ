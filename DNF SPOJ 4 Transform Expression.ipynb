{
 "cells": [
  {
   "cell_type": "code",
   "execution_count": 1,
   "metadata": {
    "collapsed": true
   },
   "outputs": [],
   "source": [
    "# Transform the algebraic expression with brackets into RPN form (Reverse Polish Notation). Two-argument operators: +, -, *, /, ^ (priority from the lowest to the highest), brackets ( ). Operands: only letters: a,b,...,z. Assume that there is only one RPN form (no expressions like a*b*c).\n",
    "\n",
    "# Input\n",
    "# t [the number of expressions <= 100]\n",
    "# expression [length <= 400]\n",
    "# [other expressions]\n",
    "# Text grouped in [ ] does not appear in the input file.\n",
    "\n",
    "# Output\n",
    "# The expressions in RPN form, one per line.\n",
    "# Example\n",
    "# Input:\n",
    "# 3\n",
    "# (a+(b*c))\n",
    "# ((a+b)*(z+x))\n",
    "# ((a+t)*((b+(a+c))^(c+d)))\n",
    "\n",
    "# Output:\n",
    "# abc*+\n",
    "# ab+zx+*\n",
    "# at+bac++cd+^*\n"
   ]
  },
  {
   "cell_type": "code",
   "execution_count": 3,
   "metadata": {},
   "outputs": [
    {
     "name": "stdout",
     "output_type": "stream",
     "text": [
      "Please enter expressiona+(b*c)\n"
     ]
    },
    {
     "data": {
      "text/plain": [
       "'a+(b*c)'"
      ]
     },
     "execution_count": 3,
     "metadata": {},
     "output_type": "execute_result"
    }
   ],
   "source": [
    "stack=[]\n",
    "\n",
    "#Take Input\n",
    "inp=input(\"Please enter expression\")\n",
    "\n",
    "stack.append(inp)\n",
    "inp"
   ]
  },
  {
   "cell_type": "code",
   "execution_count": 4,
   "metadata": {},
   "outputs": [
    {
     "data": {
      "text/plain": [
       "['a+(b*c)']"
      ]
     },
     "execution_count": 4,
     "metadata": {},
     "output_type": "execute_result"
    }
   ],
   "source": [
    "stack"
   ]
  },
  {
   "cell_type": "code",
   "execution_count": null,
   "metadata": {
    "collapsed": true
   },
   "outputs": [],
   "source": []
  }
 ],
 "metadata": {
  "kernelspec": {
   "display_name": "Python 3",
   "language": "python",
   "name": "python3"
  },
  "language_info": {
   "codemirror_mode": {
    "name": "ipython",
    "version": 3
   },
   "file_extension": ".py",
   "mimetype": "text/x-python",
   "name": "python",
   "nbconvert_exporter": "python",
   "pygments_lexer": "ipython3",
   "version": "3.6.1"
  }
 },
 "nbformat": 4,
 "nbformat_minor": 2
}
