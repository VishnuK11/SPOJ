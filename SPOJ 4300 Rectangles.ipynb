{
 "cells": [
  {
   "cell_type": "code",
   "execution_count": 2,
   "metadata": {},
   "outputs": [],
   "source": [
    "# AE00 - Rectangles\n",
    "# #ad-hoc-1\n",
    "\n",
    "# Byteman has a collection of N squares with side 1. How many different rectangles \n",
    "# can he form using these squares?\n",
    "\n",
    "# Two rectangles are considered different if none of them can be rotated and moved to\n",
    "# obtain the second one. During rectangle construction, Byteman can neither deform the \n",
    "# squares nor put any squares upon any other ones.\n",
    "\n",
    "# Input\n",
    "# The first and only line of the standard input contains one integer N (1 <= N <= 10000).\n",
    "\n",
    "# Output\n",
    "# The first and only line of the standard output should contain a single integer equal to \n",
    "# the number of different rectangles that Byteman can form using his squares.\n",
    "\n",
    "# Example\n",
    "# For the input data:\n",
    "\n",
    "# 6\n",
    "# the correct result is:\n",
    "\n",
    "# 8\n",
    "\n",
    "\n",
    "# Task author: Jakub Radoszewski."
   ]
  },
  {
   "cell_type": "code",
   "execution_count": 3,
   "metadata": {},
   "outputs": [],
   "source": [
    "# Assumptions:\n",
    "# Not all squares need to be used. All edges are integers in length\n",
    "\n",
    "#Algorithm \n",
    "# take an integer, in for looop, the other side is calculated. \n",
    "# Remove duplicates or check for duplicates\n",
    "\n",
    "def rectangles(sqr):\n",
    "    rect=0\n",
    "    for width in range(1,sqr+1):\n",
    "        for breadth in range(width,int(sqr/width)+1):\n",
    "#             print(\"Rectangle of width and breadth\", width,breadth)\n",
    "            rect=rect+1\n",
    "    return rect"
   ]
  },
  {
   "cell_type": "code",
   "execution_count": 4,
   "metadata": {},
   "outputs": [
    {
     "name": "stdout",
     "output_type": "stream",
     "text": [
      "Enter number of squares: 10\n"
     ]
    },
    {
     "data": {
      "text/plain": [
       "15"
      ]
     },
     "execution_count": 4,
     "metadata": {},
     "output_type": "execute_result"
    }
   ],
   "source": [
    "n=int(input(\"Enter number of squares: \"))\n",
    "rectangles(n)"
   ]
  },
  {
   "cell_type": "code",
   "execution_count": null,
   "metadata": {},
   "outputs": [],
   "source": []
  }
 ],
 "metadata": {
  "kernelspec": {
   "display_name": "Python 3",
   "language": "python",
   "name": "python3"
  },
  "language_info": {
   "codemirror_mode": {
    "name": "ipython",
    "version": 3
   },
   "file_extension": ".py",
   "mimetype": "text/x-python",
   "name": "python",
   "nbconvert_exporter": "python",
   "pygments_lexer": "ipython3",
   "version": "3.6.9"
  }
 },
 "nbformat": 4,
 "nbformat_minor": 2
}
